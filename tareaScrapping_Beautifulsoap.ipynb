{
 "cells": [
  {
   "cell_type": "code",
   "execution_count": 36,
   "id": "b1f2bbca",
   "metadata": {},
   "outputs": [
    {
     "name": "stderr",
     "output_type": "stream",
     "text": [
      "C:\\Users\\jmgarcia\\AppData\\Local\\Temp/ipykernel_16564/4214409420.py:5: DeprecationWarning: executable_path has been deprecated, please pass in a Service object\n",
      "  driver = webdriver.Chrome(path)\n"
     ]
    }
   ],
   "source": [
    "from selenium import webdriver\n",
    "from bs4 import BeautifulSoup\n",
    "website = 'https://www.tripadvisor.com/Restaurant_Review-g60763-d17767689-Reviews-IZAKAYA_E_A_K_Hell_s_Kitchen-New_York_City_New_York.html#REVIEWS'\n",
    "path = 'C:/Users/jmgarcia/dchrome/chromedriver'\n",
    "driver = webdriver.Chrome(path)\n",
    "driver.get(website)\n",
    "driver.maximize_window()\n",
    "\n"
   ]
  },
  {
   "cell_type": "code",
   "execution_count": 39,
   "id": "6bf49dbb",
   "metadata": {},
   "outputs": [],
   "source": [
    "html_txt = driver.page_source\n",
    "soup = BeautifulSoup(html_txt)"
   ]
  },
  {
   "cell_type": "code",
   "execution_count": 42,
   "id": "658aa0f4",
   "metadata": {},
   "outputs": [
    {
     "name": "stdout",
     "output_type": "stream",
     "text": [
      "['Wandered in here for something a bit different as we don’t have this type of place at home.  Food was very good. Service was good. This is authentic food so be prepared to use chop sticks.', 'We thoroughly enjoyed our dinner. I went for the E.A.K. Ramen with extra chicken, my partner chose the Oh So Hot. We also had pork and ginger gyoza. Everything was so tasty. Together with great service, cleanliness and very reasonable prices, we would definitely recommend...and return.More', 'So glad I waited to come back. will keep coming back. \\nWe had a wonderful time and ate so deliciously', 'Went in for a table for 2 tonight, and was asked by the greeter to wait 20 minutes, possibly outside (I assumed to leave the entrance uncrowded).\\n\\nHe then proceeded to immediately forget about us and let other guests in. When confronted about it, he...simply said it was our fault for “leaving the queue” and waiting outside. Who does that??More', 'My daughter and I are visiting New York from Toronto and we came here for a late night dinner this week. We had this sudden urge for Takoyaki after visiting the Empire State Building. These guys popped right up on Google. This place is outstanding....The miso Ramen was incredible. And the takoyaki was perfect. A little crispy on the outside but so soft and melt n your mouth on the inside. Our server was Austin and he was a very very good server, he was amazing to deal with. Such a nice positive person. We are definitely coming back here again during this trip to New York, as this place has been incredible. I’m not so experienced with Ramen noodles, but I know this place made them well. But if you’re like me and takoyaki is your thing, this place does that dish perfectly!More', \"Excellent ramen for a cold day! I'm a common visitor and I always enjoyed their food. And their takeout is superb!\", 'My girlfriend and I went once and we both became incredibly sick almost instantly. We remained feeling awful for the rest of the day. The food was extremely heavy and I don’t think we will be coming back.', \"My boyfriend and I love Ramen so much, so I decided to make a reservation here for his birthday this past weekend. We started off our dinner with the chicken pieces and pork gyoza's and they hit the spot! In fact, those items alone were...making us full, but of course, we couldn't leave without trying some ramen. I got the Oh so Hot! Ramen and he had the Zebra Ramen, and both were just so amazing. We ended the night with some strawberry mochi that definitely hit the spot and made us so full and happy!!More\", 'The restaurant decor was very minimalistic and simple. Sit down and order from the most important and popular items a Japanese restaurant can offer then there’s the ramen. Keeps it simple. Awesome broth and the noodles are definitely not out of a bag. Delicious! If...you don’t have a large appetite, the mini bowls are an adequate serving and the toppings over the rice are tasty. Just enough to fill the void and not feel overstuffed. I’ll definitely make a stop next time I’m in NYC and try some of the other menu items. Definitely worth a stop. The only negative thing was they served the Ramen well before my date’s meal which was a bit awkward. It might be good to ask the server to bring out both the main dishes at the same time.More', 'Thank you so much for your comments and rating! Yes, we do look forward to seeing you again!', 'Making our way through ramen shops in Midtown NYC.  This establishment is relatively new here but has two other locations in NYC.  It’s perfect for my husband and me because he loves ramen and I often want to get other things.  The ramen was “silky”...with great flavor and the curry fried rice was fantastic.  We also tried the gyoza, which was good but not as good as other places in NYC.More', 'Thank you so much for your review and the great rating! We are happy to know that you liked our foods! Look forward to seeing you again! Thank you!!!', 'Very tasty Ramen and good value. The gyoza are also delicious!\\n\\nThere was a good selection of cocktails too!', 'Thank you so much! We are happy to know that you liked our foods and drinks! Thank you!!!', 'We started with the pork and ginger dumplings for an appetizer.  There are five dumplings;  enough for two people.  We recommend not ordering too much for appetizers because the ramen entrees are very filling.  The dumplings were very good.\\n\\nFor our entrees we ordered The...E.A.K. Signature and the Zebra.  The E.A.K. has a chicken broth, pork chashu, spinach, and nori served in a gigantic bowl.  Additionally, I added eggplant and grilled and marinated beef and onions.  There is a charge for any additions.  Most of the additions cost about $1.  As the name indicates the E.A.K. is their most popular and signature selection.\\n\\nThe Zebra has similar ingredients but the broth is a chicken pork combination.  The broth in the Zebra is outstanding.  While both broths are deep in flavor, the Zebra broth is superior.  We selected the shredded chick as an addition.\\n\\nOur server was very capable.  We arrived about 5:00 p.m. and there were only about two available tables.  It seems the restaurant is crowded all day from lunch through late snacks.\\n\\nThere is another restaurant in Lower Manhattan.  This restaurant has tables along the side wall and the rear wall.  Also, there are counters.  The restaurant is narrow, a typical New York store front.  The restaurant is clean.\\n\\nThe restaurant in Hells Kitchen is located on the south side of West 46 street between Eighth  Avenue and Ninth Avenue.  It is closer to Ninth Avenue.More', 'Although the name is ramen, there is a big variety of other Japanese food. So many vegan options. The place is newly renovated with beautiful details. The service was wonderful. \\nI had one of the 3 vegan ramen. I had agedashi tofu which was literally...perfect. Agedashi is a dish that separates the authentic from the wannabes and this was spot on melt in your mouth. \\nDefinitely recommend this place. And will go back.More', 'Thank you so much for your nice comment and great rating! We are looking forward to seeing you!', 'Delicious...Delicious. The food was fresh and amazing. Enjoyed pork dumplings, Ramen, and fried rice. Very friendly and efficient service. Would definitely go back.', 'Thank you so much for your nice comment and great rating! We are looking forward to seeing you!']\n"
     ]
    }
   ],
   "source": [
    "listaRestaurantes=[]\n",
    "restaurantes = soup.find_all('div',class_=\"entry\")\n",
    "for restaurantes in restaurantes:\n",
    "    texto=restaurantes.find('p').getText()\n",
    "    listaRestaurantes.append (texto)\n",
    "print(listaRestaurantes)\n",
    "\n"
   ]
  },
  {
   "cell_type": "code",
   "execution_count": null,
   "id": "b5b2fefe",
   "metadata": {},
   "outputs": [],
   "source": [
    "\n"
   ]
  }
 ],
 "metadata": {
  "kernelspec": {
   "display_name": "Python 3 (ipykernel)",
   "language": "python",
   "name": "python3"
  },
  "language_info": {
   "codemirror_mode": {
    "name": "ipython",
    "version": 3
   },
   "file_extension": ".py",
   "mimetype": "text/x-python",
   "name": "python",
   "nbconvert_exporter": "python",
   "pygments_lexer": "ipython3",
   "version": "3.9.7"
  }
 },
 "nbformat": 4,
 "nbformat_minor": 5
}
